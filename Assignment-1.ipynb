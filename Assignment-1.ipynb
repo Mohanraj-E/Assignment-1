
# Assingment-1 --> Registration and Login system using Python, file handling
# Signup or registering Function
def Register():

        # Openning and reading Text file
        db = open("database.txt","r")
        Username = input('Create Username :')
        Password = input('Create Password :')
        Password1 = input('Confirm Password :')
        
        # Creating Empty Lists
        User=[]
        Pass=[]
        
        # Adding or Appending the Keys and Values based on the user input to lists
        # Merging the two lists into Dictionary as Keys and Values
        for i in db:
            User.append(Username)
            Pass.append(Password)
        data = dict(zip(User,Pass))
        
        # Importing re for Email Verification
        import re 
        regex = r'\b[A-Za-z0-9._%+-]+@[A-Za-z0-9.-]+\.[A-Z|a-z]{2,}\b'
        
        # Creating if Conditions of checking the formate of Password
        #if ((Password != Password1) and (len(Password) >= 5) and (len(Password) <= 16)):
        S, C, SP, D = 0, 0, 0, 0
        capitalalphabets="ABCDEFGHIJKLMNOPQRSTUVWXYZ"
        smallalphabets="abcdefghijklmnopqrstuvwxyz"
        specialchar="!@#$%^&*()_-+=><?/:;{}[]*-"
        digits="0123456789"
        if (Password == Password1 and (len(Password) >= 5) and (len(Password) <= 16)):
            for i in Password:
                if (i in smallalphabets):
                    S+=1
                if (i in capitalalphabets):
                    C+=1
                if (i in digits):
                    D+=1
                if(i in specialchar):
                    SP+=1
        if (S>=1 and C>=1 and SP>=1 and D>=1 and S+SP+C+D==len(Password)):
            if(re.fullmatch(regex, Username)):
                db = open("database.txt",'a')
                db.write(Username + ', ' + Password + '\n')
                print("Success")
                option2=input("Would you Like to continue with Login : \n Yes | No : ")
                if option2 == "Yes":
                    Login(User,Pass,data)
                else:
                    home()
            else:
                print("Invalid Username, Please Register Again")
                Register()
        else:
            print("Invalid Password, Please Register Again")
            Register()

# Login Function
def Login(User,Pass,data):
    
    # Getting user input for login
    Username = input('Enter Your Username :')
    Password = input('Enter Your Password :')        
    try:
        if Username in User:
            try:
                if data[Username] == Password:
                    print("Login Success")
                    print("Hi, Welcome Mr/Mrs.", Username)
                    print("\n")
                    Logout()              
                else:
                    print("Username or Password is Incorrect")
                    option1 = input("Have You Forgotten Your Password : \n Yes | No :")
                    if option1 == "Yes":
                        Username = input('Enter Your Username :') 
                        print("Your password is : ",data[Username])
                        home()
                    else:
                        print("Your Username not found, Please register, ThankYou")
                        Register()
            except:
                print("Incorrect Username or Password")
        else:
            print("Username Doesn't exist")
    except:
        print("Username or Password doesn't exist")

# Logout function
def Logout(option = None):
    option = input("\nDo you want Logout :\n\n\n Yes | No : ")
    if option == "Yes":
        home()
        
# Welcome Page
# Home function allows user to choose between Login or Signup
def home():
    print("Welcome to Assessment-1 :Registration and Login system using Python, file handling")
    print("\n\n")
    option = input("Please Register to Continue : \n Yes | No : ")
    if option == "Yes":
        Register()
    else:
        print("Please enter an option")
        home()
home()
